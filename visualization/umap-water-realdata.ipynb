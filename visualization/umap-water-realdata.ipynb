{
 "cells": [
  {
   "cell_type": "markdown",
   "metadata": {},
   "source": [
    "# TODO: Clean up, modularize and beautify! "
   ]
  },
  {
   "cell_type": "code",
   "execution_count": null,
   "metadata": {},
   "outputs": [],
   "source": []
  },
  {
   "cell_type": "code",
   "execution_count": null,
   "metadata": {},
   "outputs": [],
   "source": [
    "import numpy as np\n",
    "import os, sys, librosa\n",
    "from librosa import display\n",
    "from scipy import signal\n",
    "from matplotlib import pyplot as plt\n",
    "import matplotlib.gridspec as gridspec\n",
    "import IPython.display as ipd\n",
    "import pandas as pd\n",
    "from numba import jit\n",
    "from IPython.display import Audio \n",
    "import IPython\n",
    "\n",
    "import cdpam\n",
    "\n",
    "from scipy.stats import pearsonr, spearmanr\n",
    "\n",
    "import scipy.spatial as sp\n",
    "\n",
    "import torch\n",
    "import torch.nn as nn\n",
    "import torch.fft\n",
    "from torch.autograd import Variable\n",
    "import torch.optim as optim\n",
    "import numpy as np\n",
    "\n",
    "import noisereduce as nr\n",
    "\n",
    "import librosa\n",
    "from IPython.display import Audio, display\n",
    "from PIL import Image\n",
    "import matplotlib.pyplot as plt\n",
    "import scipy.stats as stats\n",
    "import collections as c\n",
    "\n",
    "from tifresi.utils import load_signal\n",
    "from tifresi.utils import preprocess_signal\n",
    "from tifresi.stft import GaussTF, GaussTruncTF\n",
    "from tifresi.transforms import log_spectrogram\n",
    "from tifresi.transforms import inv_log_spectrogram\n",
    "\n",
    "from torch.nn.modules.module import _addindent\n",
    "\n",
    "import copy\n",
    "import os\n",
    "import math\n",
    "\n",
    "import soundfile as sf\n",
    "from matplotlib.pyplot import figure\n",
    "import pickle\n",
    "\n",
    "from sklearn.preprocessing import MinMaxScaler\n",
    "import glob\n",
    "\n",
    "import sys\n",
    "sys.path.insert(0, '../')\n",
    "import dnnlib\n",
    "from utils import util, training_utils, losses, masking, gmloss\n",
    "from networks import stylegan_encoder\n",
    "\n",
    "%matplotlib inline\n",
    "import warnings\n",
    "warnings.filterwarnings(\"ignore\")\n",
    "\n",
    "\n",
    "from scipy.signal import freqz,butter, lfilter\n",
    "\n",
    "%load_ext autoreload\n",
    "%autoreload 2"
   ]
  },
  {
   "cell_type": "code",
   "execution_count": 8,
   "metadata": {},
   "outputs": [
    {
     "name": "stdout",
     "output_type": "stream",
     "text": [
      "Using halfsize?: False\n",
      "Input channels: 2\n",
      "0.3578926920890808\n"
     ]
    }
   ],
   "source": [
    "network_pkl = '/home/purnima/appdir/Github/StyleGANs/stylegan2-ada-pytorch/training-runs/00044-water-data-split-auto1-noaug/network-snapshot-001400.pkl'\n",
    "\n",
    "sample_rate = 16000\n",
    "stft_channels = 512 #510\n",
    "n_frames = 256\n",
    "hop_size = 128\n",
    "sample_rate = 16000\n",
    "        \n",
    "device = torch.device('cuda')\n",
    "with open(network_pkl, 'rb') as pklfile:\n",
    "    network = pickle.load(pklfile)\n",
    "    G = network['G'].to(device).eval()\n",
    "\n",
    "\n",
    "    \n",
    "    \n",
    "encoder_pt = '../checkpoints/sgan_encoder_water_resnet-34_RGBM-withthresholding/netE_epoch_best.pth'\n",
    "netE = stylegan_encoder.load_stylegan_encoder(domain=None, nz=G.z_dim,\n",
    "                                                   outdim=128,\n",
    "                                                   use_RGBM=True,#opt.masked,\n",
    "                                                   use_VAE=False,#opt.vae_like,\n",
    "                                                   resnet_depth=34,\n",
    "                                                   ckpt_path=encoder_pt)\n",
    "netE = netE.to(device).eval()\n"
   ]
  },
  {
   "cell_type": "code",
   "execution_count": 54,
   "metadata": {},
   "outputs": [],
   "source": [
    "def applyFBFadeFilter(forward_fadetime,backward_fadetime,signal,fs,expo=1):\n",
    "    forward_num_fad_samp = int(forward_fadetime*fs) \n",
    "    backward_num_fad_samp = int(backward_fadetime*fs) \n",
    "    signal_length = len(signal) \n",
    "    fadefilter = np.ones(signal_length)\n",
    "    if forward_num_fad_samp>0:\n",
    "        fadefilter[0:forward_num_fad_samp]=np.linspace(0,1,forward_num_fad_samp)**expo\n",
    "    if backward_num_fad_samp>0:\n",
    "        fadefilter[signal_length-backward_num_fad_samp:signal_length]=np.linspace(1,0,backward_num_fad_samp)**expo\n",
    "    return fadefilter*signal\n",
    "\n",
    "def pghi_stft(x):\n",
    "    use_truncated_window = True\n",
    "    if use_truncated_window:\n",
    "        stft_system = GaussTruncTF(hop_size=hop_size, stft_channels=stft_channels)\n",
    "    else:\n",
    "        stft_system = GaussTF(hop_size=hop_size, stft_channels=stft_channels)\n",
    "    Y = stft_system.spectrogram(x)\n",
    "    log_Y= log_spectrogram(Y)\n",
    "    return np.expand_dims(log_Y,axis=0)\n",
    "\n",
    "def zeropad(signal, audio_length):\n",
    "    if len(signal) < audio_length:\n",
    "        return np.append(\n",
    "            signal, \n",
    "            np.zeros(audio_length - len(signal))\n",
    "        )\n",
    "    else:\n",
    "        signal = signal[0:audio_length]\n",
    "        return signal\n",
    "\n",
    "def pghi_istft(x):\n",
    "    use_truncated_window = True\n",
    "    if use_truncated_window:\n",
    "        stft_system = GaussTruncTF(hop_size=hop_size, stft_channels=stft_channels)\n",
    "    else:\n",
    "        stft_system = GaussTF(hop_size=hop_size, stft_channels=stft_channels)\n",
    "\n",
    "    x = np.squeeze(x,axis=0)\n",
    "    new_Y = inv_log_spectrogram(x)\n",
    "    new_y = stft_system.invert_spectrogram(new_Y)\n",
    "    return new_y\n",
    "\n",
    "def renormalize(n, range1, range2):\n",
    "    delta1 = range1[1] - range1[0]\n",
    "    delta2 = range2[1] - range2[0]\n",
    "    return (delta2 * (n - range1[0]) / delta1) + range2[0]\n",
    "\n",
    "def read_and_plot(f, title=None):\n",
    "    y, sr = librosa.load(f, sr=sample_rate)\n",
    "    plot(y, title)\n",
    "\n",
    "def plot(y, title=None):\n",
    "    IPython.display.display(IPython.display.Audio(y, rate=sample_rate))\n",
    "    fig, ax = plt.subplots(nrows=1, ncols=2, figsize=(10,5))\n",
    "    \n",
    "    y_pghi = y\n",
    "    y_pghi = preprocess_signal(y_pghi)\n",
    "    y_pghi = zeropad(y_pghi, n_frames * hop_size )\n",
    "    y_pghi = pghi_stft(y_pghi)\n",
    "    \n",
    "    a=librosa.display.specshow(y_pghi[0],x_axis='time', y_axis='linear', ax=ax[0], sr=sample_rate, hop_length=hop_size)\n",
    "    ax[0].set_title(title)\n",
    "    \n",
    "    ax[1].plot(y)\n",
    "    \n",
    "def plot_multi(y1, y2, title1=None, title2=None):\n",
    "    IPython.display.display(IPython.display.Audio(y1, rate=sample_rate))\n",
    "    IPython.display.display(IPython.display.Audio(y2, rate=sample_rate))\n",
    "    \n",
    "    fig, ax = plt.subplots(nrows=1, ncols=2, figsize=(10,5))\n",
    "    \n",
    "    y_pghi = y1\n",
    "    y_pghi = preprocess_signal(y_pghi)\n",
    "    y_pghi = zeropad(y_pghi, n_frames * hop_size )\n",
    "    y_pghi = pghi_stft(y_pghi)\n",
    "    \n",
    "    a=librosa.display.specshow(y_pghi[0],x_axis='time', y_axis='linear', ax=ax[0], sr=sample_rate, hop_length=hop_size)\n",
    "    ax[0].set_title(title1)\n",
    "    \n",
    "    y_pghi = y2\n",
    "    y_pghi = preprocess_signal(y_pghi)\n",
    "    y_pghi = zeropad(y_pghi, n_frames * hop_size )\n",
    "    y_pghi = pghi_stft(y_pghi)\n",
    "    \n",
    "    a=librosa.display.specshow(y_pghi[0],x_axis='time', y_axis='linear', ax=ax[1], sr=sample_rate, hop_length=hop_size)\n",
    "    ax[1].set_title(title2)\n",
    "    \n"
   ]
  },
  {
   "cell_type": "code",
   "execution_count": 55,
   "metadata": {},
   "outputs": [],
   "source": [
    "def butter_bandpass(lowcut, highcut, fs, order=5,btype='bandpass'):\n",
    "    nyq = 0.5 * fs\n",
    "    low = lowcut / nyq\n",
    "    high = highcut / nyq\n",
    "    b, a = butter(order, [low, high], btype=btype)\n",
    "    return b, a\n",
    "\n",
    "def butter_lowhighpass(cut, fs, order=5, btype='lowpass'):\n",
    "    nyq = 0.5 * fs\n",
    "    cut = cut / nyq\n",
    "    b, a = butter(order, cut, btype=btype)\n",
    "    return b, a\n",
    "\n",
    "def butter_bandpass_filter(data, highcut, fs,lowcut=None,  order=5, btype='bandpass'):\n",
    "    if btype=='bandpass':\n",
    "        b, a = butter_bandpass(lowcut, highcut, fs, order=order, btype=btype)\n",
    "    else:\n",
    "        b, a = butter_lowhighpass(highcut, fs, order=order, btype=btype)\n",
    "    y = lfilter(b, a, data)\n",
    "    return y\n",
    "\n",
    "def gaver_impact_solidbar_single(initial_amplitude, impulse_time, num_partials, size='small', metal_or_plastic='metal', samplerate=16000):\n",
    "    t_ = np.linspace(0,impulse_time,int(impulse_time*samplerate))\n",
    "    \n",
    "    omega_1 = 240 #In Hz. Frequency is inversely proportional to size\n",
    "    if size == 'small':\n",
    "        omega_1 = 660\n",
    "        \n",
    "    D = 0.001\n",
    "    if metal_or_plastic == 'plastic':\n",
    "        D = 0.5\n",
    "    \n",
    "    h=[h_ for h_ in np.arange(-0.005, 0.005, (0.005+0.005)/num_partials)][::-1]\n",
    "    \n",
    "    gn=np.zeros(int(impulse_time*samplerate))\n",
    "    for i in range(num_partials):\n",
    "        omega_n_radians = omega_1*((2*i + 1)**2)/9\n",
    "        \n",
    "        phi = initial_amplitude + h[i]*(omega_n_radians - (2*np.pi*omega_1))\n",
    "        \n",
    "        delta_n = omega_n_radians * D\n",
    "        g = phi * np.exp(-1*delta_n*t_) * np.cos(omega_n_radians * t_)\n",
    "        gn = gn + g\n",
    "    return gn\n",
    "\n",
    "\n",
    "def gaver_impact_plate_single(initial_amplitude, impulse_time, num_partials, size='small', metal_or_plastic='metal', samplerate=16000):\n",
    "    t_ = np.linspace(0,impulse_time,int(impulse_time*samplerate))\n",
    "    \n",
    "    omega_1 = 60 #In Hz. Frequency is inversely proportional to size\n",
    "    if size == 'small':\n",
    "        omega_1 = 250\n",
    "        \n",
    "    D = 0.001\n",
    "    if metal_or_plastic == 'plastic':\n",
    "        D = 0.3\n",
    "    \n",
    "    h=[h_ for h_ in np.arange(-0.005, 0.005, (0.005+0.005)/num_partials)][::-1]\n",
    "    \n",
    "    gn=np.zeros(int(impulse_time*samplerate))\n",
    "    for i in range(num_partials):\n",
    "        omega_n = omega_1 + i*omega_1 + np.random.randint(50)\n",
    "        omega_n_radians = 2 * np.pi * omega_n\n",
    "        \n",
    "        phi = initial_amplitude + h[i]*(omega_n_radians - (2*np.pi*omega_1))\n",
    "        \n",
    "        delta_n = omega_n_radians * D\n",
    "        g = phi * np.exp(-1*delta_n*t_) * np.cos(omega_n_radians * t_)\n",
    "        gn = gn + g\n",
    "    return gn\n",
    "    \n",
    "def gaver_impact_plate(initial_amplitude, impulse_time, num_partials, size='small', metal_or_plastic='metal', samplerate=16000, total_time=0, locs=None):\n",
    "    single_hit = gaver_impact_plate_single(initial_amplitude, impulse_time, num_partials, size, metal_or_plastic, samplerate)\n",
    "    gn=np.zeros(int(total_time*samplerate))\n",
    "    for loc in locs:\n",
    "        start_loc = int(loc*sample_rate)\n",
    "        end_loc = start_loc+len(single_hit)\n",
    "        single_hit_ = single_hit\n",
    "\n",
    "        if end_loc > len(gn):\n",
    "            end_loc = len(gn)\n",
    "            single_hit_ = single_hit_[0:end_loc-start_loc]\n",
    "\n",
    "        gn[start_loc:end_loc] = applyFBFadeFilter(forward_fadetime=0.2,backward_fadetime=0,signal=single_hit_,fs=sample_rate)\n",
    "\n",
    "    return gn/np.max(gn)\n",
    "\n",
    "def gaver_impact_solidbar(initial_amplitude, impulse_time, num_partials, size='small', metal_or_plastic='metal', samplerate=16000, total_time=0, locs=None):\n",
    "    single_hit = gaver_impact_solidbar_single(initial_amplitude, impulse_time, num_partials, size, metal_or_plastic, samplerate)\n",
    "    gn=np.zeros(int(total_time*samplerate))\n",
    "    for loc in locs:\n",
    "        start_loc = int(loc*sample_rate)\n",
    "        end_loc = start_loc+len(single_hit)\n",
    "        single_hit_ = single_hit\n",
    "\n",
    "        if end_loc > len(gn):\n",
    "            end_loc = len(gn)\n",
    "            single_hit_ = single_hit_[0:end_loc-start_loc]\n",
    "\n",
    "        gn[start_loc:end_loc] = applyFBFadeFilter(forward_fadetime=0.05,backward_fadetime=0,signal=single_hit_,fs=sample_rate)\n",
    "\n",
    "    return gn/np.max(gn)"
   ]
  },
  {
   "cell_type": "code",
   "execution_count": 56,
   "metadata": {},
   "outputs": [],
   "source": [
    "def encode_and_reconstruct(audio):\n",
    "    audio_pghi = preprocess_signal(audio)\n",
    "    audio_pghi = zeropad(audio_pghi, n_frames * hop_size )\n",
    "    audio_pghi = pghi_stft(audio_pghi)\n",
    "    audio_pghi = renormalize(audio_pghi, (np.min(audio_pghi), np.max(audio_pghi)), (im_min, im_max))\n",
    "\n",
    "    audio_pghi = torch.from_numpy(audio_pghi).float().cuda().unsqueeze(dim=0)\n",
    "    mask = torch.ones_like(audio_pghi)[:, :1, :, :]\n",
    "    net_input = torch.cat([audio_pghi, mask], dim=1).cuda()\n",
    "    with torch.no_grad():\n",
    "        encoded = netE(net_input)\n",
    "\n",
    "    reconstructed_audio = G.synthesis(torch.stack([encoded] * 14, dim=1))\n",
    "    filler = torch.full((1, 1, 1, reconstructed_audio[0].shape[1]), torch.min(reconstructed_audio)).cuda()\n",
    "    reconstructed_audio = torch.cat([reconstructed_audio, filler], dim=2)\n",
    "    reconstructed_audio = renormalize(reconstructed_audio, (torch.min(reconstructed_audio), torch.max(reconstructed_audio)), (pghi_min, pghi_max))\n",
    "    reconstructed_audio = reconstructed_audio.detach().cpu().numpy()[0]\n",
    "    reconstructed_audio_wav = pghi_istft(reconstructed_audio)\n",
    "    \n",
    "    return encoded, reconstructed_audio_wav\n",
    "\n",
    "def get_spectrogram(audio):\n",
    "    audio_pghi = preprocess_signal(audio)\n",
    "    audio_pghi = zeropad(audio_pghi, n_frames * hop_size )\n",
    "    audio_pghi = pghi_stft(audio_pghi)\n",
    "    return audio_pghi\n"
   ]
  },
  {
   "cell_type": "code",
   "execution_count": 57,
   "metadata": {},
   "outputs": [],
   "source": [
    "\n",
    "#filters = [(low1, high1), (low2, high2)]\n",
    "def get_gaver_scratches(initial_amplitude, impulse_time, filters, total_time=2, locs=None, sample_rate=16000, hittype='hit'):\n",
    "    y_scratch = np.random.rand(int(impulse_time*sample_rate))\n",
    "    \n",
    "    #20%\n",
    "    start_t = 0.0\n",
    "    end_t = 0.05*impulse_time\n",
    "    fade_expo = 1\n",
    "    y1 = initial_amplitude*y_scratch[int(start_t*sample_rate):int(end_t*sample_rate)]\n",
    "    y1 = 20*butter_bandpass_filter(y1, lowcut=filters[0][0], highcut=filters[0][1], fs=sample_rate, order=2, btype='bandpass')\n",
    "    y1 = applyFBFadeFilter(0,0.1*(end_t-start_t),y1,sample_rate, expo=fade_expo)\n",
    "    y1 = np.pad(y1, (int(start_t*sample_rate),len(y_scratch)-int(end_t*sample_rate)), mode='constant')\n",
    "    \n",
    "    #Remaining 80%\n",
    "    start_t = 0.05*impulse_time\n",
    "    end_t = 1.0*impulse_time\n",
    "    fade_expo = 1\n",
    "    y2 = initial_amplitude*y_scratch[int(start_t*sample_rate):int(end_t*sample_rate)]\n",
    "    y2 = 10*butter_bandpass_filter(y2, lowcut=filters[1][0], highcut=filters[1][1], fs=sample_rate, order=2, btype='bandpass')\n",
    "    y2 = applyFBFadeFilter(0,0.1*(end_t-start_t),y2,sample_rate, expo=fade_expo)\n",
    "    y2 = np.pad(y2, (int(start_t*sample_rate),len(y_scratch)-int(end_t*sample_rate)), mode='constant')\n",
    "    \n",
    "    \n",
    "    y_scratch = y1+y2\n",
    "    \n",
    "    signal_mult = 0.00005\n",
    "    if hittype == 'scratch':\n",
    "        signal_mult = 0.0005\n",
    "    signal = signal_mult*np.random.randn(int(total_time*sample_rate))\n",
    "    \n",
    "    for loc in locs:\n",
    "        start_loc = int(loc*sample_rate)\n",
    "        end_loc = start_loc+len(y_scratch)\n",
    "        y_scratch_ = y_scratch\n",
    "\n",
    "        if end_loc > len(signal):\n",
    "            end_loc = len(signal)\n",
    "            y_scratch_ = y_scratch_[0:end_loc-start_loc]\n",
    "\n",
    "        signal[start_loc:end_loc] = y_scratch_\n",
    "    return signal/np.max(signal)"
   ]
  },
  {
   "cell_type": "code",
   "execution_count": 58,
   "metadata": {},
   "outputs": [
    {
     "name": "stdout",
     "output_type": "stream",
     "text": [
      "-1.279571 0.96207935\n"
     ]
    }
   ],
   "source": [
    "z = torch.from_numpy(np.random.randn(1, G.z_dim)).to(device)\n",
    "im = G(z, None)\n",
    "im_min = torch.min(im).cpu().numpy()\n",
    "im_max = torch.max(im).cpu().numpy()\n",
    "print(im_min, im_max)\n",
    "\n",
    "pghi_min = -50.0\n",
    "pghi_max = 0.0\n",
    "\n",
    "np.random.seed(123)"
   ]
  },
  {
   "cell_type": "code",
   "execution_count": null,
   "metadata": {},
   "outputs": [],
   "source": []
  },
  {
   "cell_type": "markdown",
   "metadata": {},
   "source": [
    "# Real Data"
   ]
  },
  {
   "cell_type": "code",
   "execution_count": 59,
   "metadata": {},
   "outputs": [],
   "source": [
    "water_data_dir = '/home/purnima/appdir/Github/DATA/WaterData_fullclips/water-data-split'\n",
    "num_files = 50\n",
    "\n",
    "realdata_file_dict = {}\n",
    "\n",
    "for ind in range(1, num_files+1):\n",
    "    ind_str = str(ind)\n",
    "    if ind < 10:\n",
    "        ind_str = ind_str.rjust(2,'0')\n",
    "    filename = f'ZOOM00%s' % ind_str\n",
    "    start_filename = f'%s_0.wav' % filename\n",
    "    start_filename = os.path.join(water_data_dir, start_filename)\n",
    "    \n",
    "    if os.path.exists(start_filename):\n",
    "        all_files = glob.glob(os.path.join(water_data_dir, filename+'*.wav'))\n",
    "        all_files = sorted(all_files, key=lambda x:int(x.split(filename)[1].split('_')[1].split('.')[0]))\n",
    "        end_filename = all_files[-3]\n",
    "        middle_filename = all_files[len(all_files)//2]\n",
    "        realdata_file_dict[ind] = {'start':start_filename, 'middle':middle_filename, 'end':end_filename}\n",
    "\n",
    "        \n",
    "for ind in realdata_file_dict.keys():\n",
    "    start_wav, _ = librosa.load(realdata_file_dict[ind]['start'], sr=sample_rate)\n",
    "    middle_wav, _ = librosa.load(realdata_file_dict[ind]['middle'], sr=sample_rate)\n",
    "    end_wav, _ = librosa.load(realdata_file_dict[ind]['end'], sr=sample_rate)\n",
    "\n",
    "    encoded_dict = {}\n",
    "\n",
    "    for loc, audio in zip(['start_encoded', 'middle_encoded', 'end_encoded'],[start_wav, middle_wav, end_wav]):\n",
    "        audio_pghi = preprocess_signal(audio)\n",
    "        audio_pghi = zeropad(audio_pghi, n_frames * hop_size )\n",
    "        audio_pghi = pghi_stft(audio_pghi)\n",
    "        audio_pghi = renormalize(audio_pghi, (np.min(audio_pghi), np.max(audio_pghi)), (im_min, im_max))\n",
    "\n",
    "        audio_pghi = torch.from_numpy(audio_pghi).float().cuda().unsqueeze(dim=0)\n",
    "        mask = torch.ones_like(audio_pghi)[:, :1, :, :]*1\n",
    "        net_input = torch.cat([audio_pghi, mask], dim=1).cuda()\n",
    "        with torch.no_grad():\n",
    "            encoded = netE(net_input)\n",
    "\n",
    "        file_obj = realdata_file_dict[ind]\n",
    "        file_obj[loc] = encoded\n",
    "        realdata_file_dict[ind] = file_obj"
   ]
  },
  {
   "cell_type": "code",
   "execution_count": 60,
   "metadata": {},
   "outputs": [
    {
     "data": {
      "text/plain": [
       "dict_keys([1, 2, 3, 4, 5, 6, 7, 8, 9, 10, 11, 12, 13, 14, 15, 16, 17, 18, 19, 25, 26, 27, 28, 29, 30, 31, 32, 33, 34, 35, 36, 37, 38, 39, 40, 41, 42, 43, 44, 45, 46, 47, 48, 49, 50])"
      ]
     },
     "execution_count": 60,
     "metadata": {},
     "output_type": "execute_result"
    }
   ],
   "source": [
    "realdata_file_dict.keys()"
   ]
  },
  {
   "cell_type": "markdown",
   "metadata": {},
   "source": [
    "# Gaver Samples"
   ]
  },
  {
   "cell_type": "code",
   "execution_count": 61,
   "metadata": {},
   "outputs": [],
   "source": [
    "#phi: Initial amplitude - relates to mallet hardness; force or proximity\n",
    "#delta: Damping - relates to material (0=Full cosine no damping; higher values more damping;)\n",
    "#omega: partial frequencies - relates to size, configuration (high pos/neg values are tinnier; values around zero are woody;)\n",
    "\n",
    "def gaver_impact(phi, delta, omega, t, samplerate, add_variance=False):\n",
    "    t_ = np.arange(t*samplerate)\n",
    "    \n",
    "    omega_ = omega\n",
    "    if add_variance == True:\n",
    "        omega_ = omega+np.random.uniform(-0.01,0.01)\n",
    "    g = phi * np.exp(-1*delta*t_) * np.cos(omega_ * t_)\n",
    "    \n",
    "    return g\n",
    "    \n",
    "\n",
    "#each level is modelled as combination of 3 omegas of drips\n",
    "def model_water_filling(num_secs, level=0, drip_secs=0.1):\n",
    "    y = np.zeros(num_secs*sample_rate)\n",
    "    \n",
    "    if level==-1:\n",
    "        start_drip = 0.55\n",
    "        for i in range(int(num_secs/drip_secs)):\n",
    "            omega_ = 0.45 + i*0.002\n",
    "            drip_NN1 = gaver_impact(phi=(2-i*0.01), delta=0.003, omega=omega_, t=drip_secs, samplerate=16000, add_variance=True)\n",
    "            omega__ = 0.45 - i*0.005\n",
    "            drip_NN2 = gaver_impact(phi=(2-i*0.01), delta=0.003, omega=omega__, t=drip_secs, samplerate=16000, add_variance=True)\n",
    "            \n",
    "            drip = gaver_impact(phi=1, delta=0.003, omega=0.85, t=drip_secs, samplerate=16000, add_variance=True)\n",
    "            drip_2 = gaver_impact(phi=0.5, delta=0.003, omega=0.1, t=drip_secs, samplerate=16000, add_variance=True)\n",
    "            drip_3 = gaver_impact(phi=0.2, delta=0.003, omega=0.85, t=drip_secs, samplerate=16000, add_variance=True)\n",
    "            \n",
    "            y[int(i*drip_secs*sample_rate):int(i*drip_secs*sample_rate+(drip_secs*sample_rate))] = drip_NN1 +drip_NN2 +drip +drip_2\n",
    "    \n",
    "    if level==0:\n",
    "        start_drip = 0.55\n",
    "        for i in range(int(num_secs/drip_secs)):\n",
    "            omega_ = 0.6 - i*0.005\n",
    "            drip_NN1 = gaver_impact(phi=(2-i*0.01), delta=0.003, omega=omega_, t=drip_secs, samplerate=16000, add_variance=True)\n",
    "            omega__ = 0.85 - i*0.005\n",
    "            drip_NN2 = gaver_impact(phi=(2-i*0.01), delta=0.003, omega=omega__, t=drip_secs, samplerate=16000, add_variance=True)\n",
    "            \n",
    "            drip = gaver_impact(phi=0.2, delta=0.003, omega=0.1, t=drip_secs, samplerate=16000, add_variance=True)\n",
    "            drip_2 = gaver_impact(phi=0.5, delta=0.003, omega=0.45, t=drip_secs, samplerate=16000, add_variance=True)\n",
    "            drip_3 = gaver_impact(phi=0.2, delta=0.003, omega=0.85, t=drip_secs, samplerate=16000, add_variance=True)\n",
    "            \n",
    "            y[int(i*drip_secs*sample_rate):int(i*drip_secs*sample_rate+(drip_secs*sample_rate))] = drip + drip_2 + drip_3  + drip_NN1 + drip_NN2 #+g\n",
    "            \n",
    "    if level==1:\n",
    "        for i in range(int(num_secs/drip_secs)):\n",
    "            drip = gaver_impact(phi=1, delta=0.003, omega=0.1, t=drip_secs, samplerate=16000, add_variance=True)\n",
    "            drip_2 = gaver_impact(phi=0.5, delta=0.003, omega=0.55, t=drip_secs, samplerate=16000, add_variance=True)\n",
    "            drip_3 = gaver_impact(phi=0.2, delta=0.003, omega=0.85, t=drip_secs, samplerate=16000, add_variance=True)\n",
    "            drip_4 = gaver_impact(phi=0.1, delta=0.003, omega=1.2, t=drip_secs, samplerate=16000, add_variance=True)\n",
    "            y[int(i*drip_secs*sample_rate):int(i*drip_secs*sample_rate+(drip_secs*sample_rate))] = drip + drip_2 + drip_3 + drip_4\n",
    "            \n",
    "    \n",
    "    if level==5:\n",
    "        for i in range(int(num_secs/drip_secs)):\n",
    "            drip = gaver_impact(phi=1, delta=0.003, omega=0.1, t=drip_secs, samplerate=16000, add_variance=True)\n",
    "            drip_2 = gaver_impact(phi=1, delta=0.003, omega=0.15, t=drip_secs, samplerate=16000, add_variance=True)\n",
    "            drip_3 = gaver_impact(phi=0.7, delta=0.003, omega=0.85, t=drip_secs, samplerate=16000, add_variance=True)\n",
    "            y[int(i*drip_secs*sample_rate):int(i*drip_secs*sample_rate+(drip_secs*sample_rate))] = drip + drip_2 + drip_3 \n",
    "            \n",
    "    \n",
    "    if level==11:\n",
    "        for i in range(int(num_secs/(drip_secs))):\n",
    "            \n",
    "            omega_ = 0.55 + i*0.01\n",
    "            drip_NN1 = gaver_impact(phi=1, delta=0.003, omega=omega_, t=drip_secs, samplerate=16000, add_variance=True)\n",
    "            \n",
    "            y[int(i*drip_secs*sample_rate):int(i*drip_secs*sample_rate+(drip_secs*sample_rate))] = drip_NN1\n",
    "\n",
    "            \n",
    "    return y"
   ]
  },
  {
   "cell_type": "code",
   "execution_count": 62,
   "metadata": {},
   "outputs": [],
   "source": [
    "file_dict = {}\n",
    "\n",
    "levels = [-1, 0, 5, 11]\n",
    "\n",
    "for ind in range(10):\n",
    "    for level in levels:\n",
    "        audio = model_water_filling(num_secs=2, level=level, drip_secs=0.05)\n",
    "        audio_pghi = preprocess_signal(audio)\n",
    "        audio_pghi = zeropad(audio_pghi, n_frames * hop_size )\n",
    "        audio_pghi = pghi_stft(audio_pghi)\n",
    "        audio_pghi = renormalize(audio_pghi, (np.min(audio_pghi), np.max(audio_pghi)), (im_min, im_max))\n",
    "\n",
    "        audio_pghi = torch.from_numpy(audio_pghi).float().cuda().unsqueeze(dim=0)\n",
    "        mask = torch.ones_like(audio_pghi)[:, :1, :, :]*1\n",
    "        net_input = torch.cat([audio_pghi, mask], dim=1).cuda()\n",
    "        with torch.no_grad():\n",
    "            encoded = netE(net_input)\n",
    "            \n",
    "        fileobj = {}\n",
    "        fileobj['audio'] = audio\n",
    "        fileobj['encoded'] = encoded\n",
    "        file_dict[f'sampleid_%s_level_%s' % (ind, level)] = fileobj"
   ]
  },
  {
   "cell_type": "code",
   "execution_count": 63,
   "metadata": {},
   "outputs": [
    {
     "data": {
      "text/plain": [
       "dict_keys(['sampleid_0_level_-1', 'sampleid_0_level_0', 'sampleid_0_level_5', 'sampleid_0_level_11', 'sampleid_1_level_-1', 'sampleid_1_level_0', 'sampleid_1_level_5', 'sampleid_1_level_11', 'sampleid_2_level_-1', 'sampleid_2_level_0', 'sampleid_2_level_5', 'sampleid_2_level_11', 'sampleid_3_level_-1', 'sampleid_3_level_0', 'sampleid_3_level_5', 'sampleid_3_level_11', 'sampleid_4_level_-1', 'sampleid_4_level_0', 'sampleid_4_level_5', 'sampleid_4_level_11', 'sampleid_5_level_-1', 'sampleid_5_level_0', 'sampleid_5_level_5', 'sampleid_5_level_11', 'sampleid_6_level_-1', 'sampleid_6_level_0', 'sampleid_6_level_5', 'sampleid_6_level_11', 'sampleid_7_level_-1', 'sampleid_7_level_0', 'sampleid_7_level_5', 'sampleid_7_level_11', 'sampleid_8_level_-1', 'sampleid_8_level_0', 'sampleid_8_level_5', 'sampleid_8_level_11', 'sampleid_9_level_-1', 'sampleid_9_level_0', 'sampleid_9_level_5', 'sampleid_9_level_11'])"
      ]
     },
     "execution_count": 63,
     "metadata": {},
     "output_type": "execute_result"
    }
   ],
   "source": [
    "file_dict.keys()"
   ]
  },
  {
   "cell_type": "code",
   "execution_count": null,
   "metadata": {},
   "outputs": [],
   "source": []
  },
  {
   "cell_type": "code",
   "execution_count": 19,
   "metadata": {},
   "outputs": [],
   "source": [
    "import umap\n",
    "import sklearn\n",
    "import sklearn.datasets"
   ]
  },
  {
   "cell_type": "code",
   "execution_count": 64,
   "metadata": {},
   "outputs": [
    {
     "data": {
      "text/plain": [
       "dict_keys(['start', 'middle', 'end', 'start_encoded', 'middle_encoded', 'end_encoded'])"
      ]
     },
     "execution_count": 64,
     "metadata": {},
     "output_type": "execute_result"
    }
   ],
   "source": [
    "realdata_file_dict[1].keys()"
   ]
  },
  {
   "cell_type": "markdown",
   "metadata": {},
   "source": [
    "# UMAP on Curated Samples"
   ]
  },
  {
   "cell_type": "code",
   "execution_count": 65,
   "metadata": {},
   "outputs": [
    {
     "name": "stdout",
     "output_type": "stream",
     "text": [
      "(135, 128)\n"
     ]
    }
   ],
   "source": [
    "data = []\n",
    "for key in realdata_file_dict.keys(): #carpet_scratch_file4_sample6\n",
    "    data.append(realdata_file_dict[key]['start_encoded'].flatten().cpu().numpy())\n",
    "    data.append(realdata_file_dict[key]['middle_encoded'].flatten().cpu().numpy())\n",
    "    data.append(realdata_file_dict[key]['end_encoded'].flatten().cpu().numpy())\n",
    "\n",
    "data = np.stack(data)\n",
    "print(data.shape)"
   ]
  },
  {
   "cell_type": "code",
   "execution_count": 66,
   "metadata": {},
   "outputs": [
    {
     "name": "stdout",
     "output_type": "stream",
     "text": [
      "(135, 3)\n"
     ]
    }
   ],
   "source": [
    "reducer = umap.UMAP(n_neighbors=10, n_components=3, random_state=42)\n",
    "reducer.fit(data)\n",
    "embedding = reducer.transform(data)\n",
    "print(embedding.shape)"
   ]
  },
  {
   "cell_type": "code",
   "execution_count": 67,
   "metadata": {},
   "outputs": [
    {
     "data": {
      "text/plain": [
       "<matplotlib.legend.Legend at 0x7f67d0fd9f70>"
      ]
     },
     "execution_count": 67,
     "metadata": {},
     "output_type": "execute_result"
    },
    {
     "data": {
      "image/png": "[encoded data removed]",
      "text/plain": [
       "<Figure size 576x576 with 1 Axes>"
      ]
     },
     "metadata": {
      "needs_background": "light"
     },
     "output_type": "display_data"
    }
   ],
   "source": [
    "start_embeddings = []\n",
    "middle_embeddings = []\n",
    "end_embeddings = []\n",
    "\n",
    "for ind, (key, emb) in enumerate(zip(realdata_file_dict.keys(), embedding)):\n",
    "    start_embeddings.append(embedding[ind*3])\n",
    "    middle_embeddings.append(embedding[ind*3+1])\n",
    "    end_embeddings.append(embedding[ind*3+2])\n",
    "start_embeddings = np.stack(start_embeddings)\n",
    "middle_embeddings = np.stack(middle_embeddings)\n",
    "end_embeddings = np.stack(end_embeddings)\n",
    "        \n",
    "fig = plt.figure(figsize=(8,8))\n",
    "ax = fig.add_subplot(projection='3d')\n",
    "\n",
    "ax.scatter(start_embeddings[:, 0], start_embeddings[:, 1], start_embeddings[:, 2], marker='^', c='red', s=30,label='Start')\n",
    "# ax.scatter(middle_embeddings[:, 0], middle_embeddings[:, 1], middle_embeddings[:, 2], marker='o', c='green', s=30,label='Middle')\n",
    "ax.scatter(end_embeddings[:, 0], end_embeddings[:, 1], end_embeddings[:, 2], marker='o', c='blue', s=30,label='End')\n",
    "\n",
    "ax.view_init(20,80)\n",
    "\n",
    "ax.set_xlabel('Emb 0')\n",
    "ax.set_ylabel('Emb 1')\n",
    "ax.set_zlabel('Emb 2')\n",
    "\n",
    "ax.set_title('UMAP Projections for Water Fill Levels')\n",
    "ax.legend()"
   ]
  },
  {
   "cell_type": "code",
   "execution_count": null,
   "metadata": {},
   "outputs": [],
   "source": []
  },
  {
   "cell_type": "code",
   "execution_count": null,
   "metadata": {},
   "outputs": [],
   "source": []
  }
 ],
 "metadata": {
  "kernelspec": {
   "display_name": "Python [conda env:pDL-clone-torch1.8] *",
   "language": "python",
   "name": "conda-env-pDL-clone-torch1.8-py"
  },
  "language_info": {
   "codemirror_mode": {
    "name": "ipython",
    "version": 3
   },
   "file_extension": ".py",
   "mimetype": "text/x-python",
   "name": "python",
   "nbconvert_exporter": "python",
   "pygments_lexer": "ipython3",
   "version": "3.8.6"
  }
 },
 "nbformat": 4,
 "nbformat_minor": 4
}
